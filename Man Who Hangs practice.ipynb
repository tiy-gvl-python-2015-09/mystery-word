{
 "cells": [
  {
   "cell_type": "code",
   "execution_count": 5,
   "metadata": {
    "collapsed": true
   },
   "outputs": [],
   "source": [
    "from random import randint"
   ]
  },
  {
   "cell_type": "code",
   "execution_count": 6,
   "metadata": {
    "collapsed": false
   },
   "outputs": [],
   "source": [
    "with open(\"/usr/share/dict/words\") as infile:\n",
    "    word_list = infile.read()"
   ]
  },
  {
   "cell_type": "code",
   "execution_count": 45,
   "metadata": {
    "collapsed": false
   },
   "outputs": [],
   "source": [
    "x = word_list.split(\"\\n\")"
   ]
  },
  {
   "cell_type": "raw",
   "metadata": {},
   "source": []
  },
  {
   "cell_type": "code",
   "execution_count": 7,
   "metadata": {
    "collapsed": true
   },
   "outputs": [],
   "source": [
    "def make_available_word_list(infile):\n",
    "    available_words_list = word_list.split()\n",
    "    return available_words_list"
   ]
  },
  {
   "cell_type": "code",
   "execution_count": 8,
   "metadata": {
    "collapsed": true
   },
   "outputs": [],
   "source": [
    "def make_computer_guess_word(infile):\n",
    "    available_words_list = word_list.split()\n",
    "    upper_index_limit = len(available_words_list)\n",
    "    random_num = randint(0, upper_index_limit)\n",
    "    guess_word = available_words_list[random_num]\n",
    "    guess_word = guess_word.lower()\n",
    "    return guess_word"
   ]
  },
  {
   "cell_type": "code",
   "execution_count": 16,
   "metadata": {
    "collapsed": false
   },
   "outputs": [
    {
     "name": "stdout",
     "output_type": "stream",
     "text": [
      "bodkinwise\n"
     ]
    }
   ],
   "source": [
    "com_word = make_computer_guess_word(word_list)\n",
    "print(com_word)"
   ]
  },
  {
   "cell_type": "code",
   "execution_count": 46,
   "metadata": {
    "collapsed": false
   },
   "outputs": [],
   "source": [
    "y = len(x)"
   ]
  },
  {
   "cell_type": "code",
   "execution_count": 47,
   "metadata": {
    "collapsed": false
   },
   "outputs": [],
   "source": [
    "z = randint(0, y)\n"
   ]
  },
  {
   "cell_type": "code",
   "execution_count": 48,
   "metadata": {
    "collapsed": false
   },
   "outputs": [
    {
     "name": "stdout",
     "output_type": "stream",
     "text": [
      "multitheism\n"
     ]
    }
   ],
   "source": [
    "guess_word = x[z]\n",
    "guess_word = guess_word.lower()\n",
    "print(guess_word)"
   ]
  },
  {
   "cell_type": "code",
   "execution_count": 82,
   "metadata": {
    "collapsed": false
   },
   "outputs": [
    {
     "name": "stdout",
     "output_type": "stream",
     "text": [
      "_ _ _ _ _ _ _ _ _ _ _ \n"
     ]
    }
   ],
   "source": [
    "spaces = len(guess_word)\n",
    "la_da_da = \"_ \" * spaces\n",
    "print(la_da_da)"
   ]
  },
  {
   "cell_type": "code",
   "execution_count": 83,
   "metadata": {
    "collapsed": false
   },
   "outputs": [],
   "source": [
    "actual_spaces = la_da_da.split()"
   ]
  },
  {
   "cell_type": "code",
   "execution_count": 84,
   "metadata": {
    "collapsed": false
   },
   "outputs": [
    {
     "name": "stdout",
     "output_type": "stream",
     "text": [
      "['_', '_', '_', '_', '_', '_', '_', '_', '_', '_', '_']\n"
     ]
    }
   ],
   "source": [
    "print(actual_spaces)"
   ]
  },
  {
   "cell_type": "raw",
   "metadata": {},
   "source": []
  },
  {
   "cell_type": "code",
   "execution_count": 10,
   "metadata": {
    "collapsed": true
   },
   "outputs": [],
   "source": [
    "def get_spaces_list(word):\n",
    "    num_spaces = len(word)\n",
    "    string_of_spaces = \"_ \" * num_spaces\n",
    "    spaces_list = string_of_spaces.split()\n",
    "    return spaces_list"
   ]
  },
  {
   "cell_type": "code",
   "execution_count": null,
   "metadata": {
    "collapsed": true
   },
   "outputs": [],
   "source": []
  },
  {
   "cell_type": "code",
   "execution_count": 15,
   "metadata": {
    "collapsed": true
   },
   "outputs": [],
   "source": [
    "def find_occurances(a_string, char):\n",
    "    return [i for i, letter in enumerate(a_string)if letter == char]"
   ]
  },
  {
   "cell_type": "code",
   "execution_count": 91,
   "metadata": {
    "collapsed": false
   },
   "outputs": [
    {
     "name": "stdout",
     "output_type": "stream",
     "text": [
      "What letter?  m\n",
      "[0, 10]\n",
      "m _ _ _ _ _ _ _ _ _ m\n",
      "m _ _ _ _ _ _ _ _ _ m\n"
     ]
    }
   ],
   "source": [
    "user_guess = input(\"What letter?  \")\n",
    "if user_guess in guess_word:\n",
    "    \n",
    "    dood = find_occurances(guess_word, user_guess)\n",
    "    print(dood)\n",
    "    for x in dood:\n",
    "        actual_spaces[x] = user_guess\n",
    "        joined_spaces = \" \".join(actual_spaces)\n",
    "        print(joined_spaces)\n",
    "#else:\n",
    "    #print(\"screwed up again\")"
   ]
  },
  {
   "cell_type": "code",
   "execution_count": 92,
   "metadata": {
    "collapsed": true
   },
   "outputs": [],
   "source": [
    "bad_list = [1, 2, 3, 4, 5]"
   ]
  },
  {
   "cell_type": "code",
   "execution_count": 93,
   "metadata": {
    "collapsed": false
   },
   "outputs": [
    {
     "ename": "TypeError",
     "evalue": "'NoneType' object is not subscriptable",
     "output_type": "error",
     "traceback": [
      "\u001b[0;31m---------------------------------------------------------------------------\u001b[0m",
      "\u001b[0;31mTypeError\u001b[0m                                 Traceback (most recent call last)",
      "\u001b[0;32m<ipython-input-93-75234a3426aa>\u001b[0m in \u001b[0;36m<module>\u001b[0;34m()\u001b[0m\n\u001b[0;32m----> 1\u001b[0;31m \u001b[0mbad_list\u001b[0m\u001b[0;34m.\u001b[0m\u001b[0mappend\u001b[0m\u001b[0;34m(\u001b[0m\u001b[0;36m24\u001b[0m\u001b[0;34m)\u001b[0m\u001b[0;34m[\u001b[0m\u001b[0;36m5\u001b[0m\u001b[0;34m]\u001b[0m\u001b[0;34m\u001b[0m\u001b[0m\n\u001b[0m",
      "\u001b[0;31mTypeError\u001b[0m: 'NoneType' object is not subscriptable"
     ]
    }
   ],
   "source": [
    "bad_list.append(24)[5]"
   ]
  },
  {
   "cell_type": "code",
   "execution_count": 18,
   "metadata": {
    "collapsed": false
   },
   "outputs": [
    {
     "name": "stdout",
     "output_type": "stream",
     "text": [
      "['_', '_', '_', '_', '_', '_', '_', '_', '_', '_', '_', '_', '_', '_', '_', '_', '_']\n"
     ]
    }
   ],
   "source": [
    "try_word = make_computer_guess_word(word_list)\n",
    "actual_spaces = get_spaces_list(try_word)\n",
    "print(actual_spaces)"
   ]
  },
  {
   "cell_type": "code",
   "execution_count": 17,
   "metadata": {
    "collapsed": false
   },
   "outputs": [],
   "source": [
    "def man_who_hangs_game(spaces, guess_word):\n",
    "    empty_spaces = len(spaces)\n",
    "    previous_guesses = []\n",
    "    round_counter = 9\n",
    "    while empty_spaces != 0:\n",
    "        print(\" \".join(spaces))\n",
    "        print(\"You have {} guesses left.\".format(round_counter))\n",
    "        user_character_guess = input(\"What letter is your guess?  \\n\").lower()\n",
    "        if user_character_guess in previous_guesses:\n",
    "            print(\"You already guessed that one!\\n\")\n",
    "        elif user_character_guess in guess_word:\n",
    "            previous_guesses.append(user_character_guess)\n",
    "            occurance_index = find_occurances(guess_word, user_character_guess)\n",
    "            empty_spaces = empty_spaces - len(occurance_index)\n",
    "            for occurance in occurance_index:\n",
    "                spaces[occurance] = user_character_guess\n",
    "                new_empty_spaces_string = \" \".join(spaces)\n",
    "        elif user_character_guess == 'give up':\n",
    "            print(\"The word I was using was {}\".format(guess_word))\n",
    "            print(\"YOU LOSE HUMAN!\")\n",
    "            break\n",
    "        elif round_counter == 1:\n",
    "            print(\"GAME OVER!\")\n",
    "            print(\"My word was {}!\".format(guess_word))\n",
    "            print(\"I'VE BEATEN YOU HUMAN!!\")\n",
    "            print(\"MUAHAHAHAHA! I WILL TAKE OVER THE WORLD!\")\n",
    "            break\n",
    "        else:\n",
    "            previous_guesses.append(user_character_guess)\n",
    "            round_counter = round_counter - 1\n",
    "            print(\"That letter isn't in my word! \\n\")\n",
    "    if empty_spaces == 0:\n",
    "        print(\" \".join(spaces))\n",
    "        print(\"YOU BEAT ME HUMAN!!\")"
   ]
  },
  {
   "cell_type": "markdown",
   "metadata": {},
   "source": [
    "guess_word = make_computer_guess_word(word_list)\n",
    "spaces = get_spaces_list(guess_word)\n",
    "man_who_hangs_game(spaces, guess_word)"
   ]
  },
  {
   "cell_type": "code",
   "execution_count": 22,
   "metadata": {
    "collapsed": false
   },
   "outputs": [],
   "source": [
    "def start_game_over(func):\n",
    "    play_again = input(\"Do you want to play again? Y/N \\n\").lower()\n",
    "    if play_again == \"y\":\n",
    "        start_game_over(func)\n",
    "    else:\n",
    "        print(\"GOODBYE HUMAN!\")\n",
    "        return"
   ]
  },
  {
   "cell_type": "code",
   "execution_count": 23,
   "metadata": {
    "collapsed": false
   },
   "outputs": [
    {
     "ename": "TypeError",
     "evalue": "'tuple' object is not callable",
     "output_type": "error",
     "traceback": [
      "\u001b[0;31m---------------------------------------------------------------------------\u001b[0m",
      "\u001b[0;31mTypeError\u001b[0m                                 Traceback (most recent call last)",
      "\u001b[0;32m<ipython-input-23-568876468b03>\u001b[0m in \u001b[0;36m<module>\u001b[0;34m()\u001b[0m\n\u001b[0;32m----> 1\u001b[0;31m \u001b[0mlist\u001b[0m\u001b[0;34m(\u001b[0m\u001b[0;34m(\u001b[0m\u001b[0;36m1\u001b[0m\u001b[0;34m,\u001b[0m\u001b[0;36m2\u001b[0m\u001b[0;34m)\u001b[0m \u001b[0;34m(\u001b[0m\u001b[0;36m3\u001b[0m\u001b[0;34m,\u001b[0m \u001b[0;36m5\u001b[0m\u001b[0;34m)\u001b[0m\u001b[0;34m)\u001b[0m\u001b[0;34m\u001b[0m\u001b[0m\n\u001b[0m",
      "\u001b[0;31mTypeError\u001b[0m: 'tuple' object is not callable"
     ]
    }
   ],
   "source": [
    "list((1,2) (3, 5))"
   ]
  },
  {
   "cell_type": "code",
   "execution_count": null,
   "metadata": {
    "collapsed": true
   },
   "outputs": [],
   "source": []
  }
 ],
 "metadata": {
  "kernelspec": {
   "display_name": "Python 3",
   "language": "python",
   "name": "python3"
  },
  "language_info": {
   "codemirror_mode": {
    "name": "ipython",
    "version": 3
   },
   "file_extension": ".py",
   "mimetype": "text/x-python",
   "name": "python",
   "nbconvert_exporter": "python",
   "pygments_lexer": "ipython3",
   "version": "3.5.0"
  }
 },
 "nbformat": 4,
 "nbformat_minor": 0
}
