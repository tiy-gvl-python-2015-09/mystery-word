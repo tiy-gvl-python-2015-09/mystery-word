{
 "cells": [
  {
   "cell_type": "code",
   "execution_count": null,
   "metadata": {
    "collapsed": true
   },
   "outputs": [],
   "source": []
  },
  {
   "cell_type": "code",
   "execution_count": 1,
   "metadata": {
    "collapsed": false
   },
   "outputs": [
    {
     "name": "stdout",
     "output_type": "stream",
     "text": [
      "_ _ _ _ _\n",
      "What letter is your guess?  s\n",
      "That's not in the word!\n",
      "\n",
      "_ _ _ _ _\n",
      "What letter is your guess?  a\n",
      "a _ _ _ _\n",
      "What letter is your guess?  g\n",
      "That's not in the word!\n",
      "\n",
      "a _ _ _ _\n",
      "What letter is your guess?  i\n",
      "That's not in the word!\n",
      "\n",
      "a _ _ _ _\n",
      "What letter is your guess?  e\n",
      "That's not in the word!\n",
      "\n",
      "a _ _ _ _\n",
      "What letter is your guess?  t\n",
      "That's not in the word!\n",
      "\n",
      "a _ _ _ _\n",
      "What letter is your guess?  w\n",
      "That's not in the word!\n",
      "\n",
      "a _ _ _ _\n",
      "What letter is your guess?  c\n",
      "That's not in the word!\n",
      "\n",
      "a _ _ _ _\n",
      "What letter is your guess?  n\n",
      "a _ _ _ n\n",
      "What letter is your guess?  m\n",
      "a _ m _ n\n",
      "What letter is your guess?  l\n",
      "a l m _ n\n",
      "What letter is your guess?  o\n"
     ]
    }
   ],
   "source": [
    "from random import randint\n",
    "\n",
    "with open(\"/usr/share/dict/words\") as infile:\n",
    "    available_words = infile.read()\n",
    "\n",
    "\n",
    "def find_occurances(a_string, char):\n",
    "    return [i for i, letter in enumerate(a_string)if letter == char]\n",
    "\n",
    "\n",
    "word_list = available_words.split()\n",
    "\n",
    "how_many_words = len(word_list)\n",
    "\n",
    "guess_number = randint(0, how_many_words)\n",
    "\n",
    "guess_word = word_list[guess_number]\n",
    "\n",
    "guess_word = guess_word.lower()\n",
    "\n",
    "empty_spaces = len(guess_word)\n",
    "\n",
    "empty_spaces_string = empty_spaces * \"_ \"\n",
    "\n",
    "empty_spaces_list = empty_spaces_string.split()\n",
    "\n",
    "while empty_spaces != 0:\n",
    "    previous_guesses = []\n",
    "    print(\" \".join(empty_spaces_list))\n",
    "    user_character_guess = input(\"What letter is your guess?  \").lower()\n",
    "    if user_character_guess in previous_guesses:\n",
    "        print(\"You already guessed that one!\")\n",
    "    elif user_character_guess in guess_word:\n",
    "        previous_guesses.append(user_character_guess)\n",
    "        occurance_index = find_occurances(guess_word, user_character_guess)\n",
    "        for occurance in occurance_index:\n",
    "            empty_spaces_list[occurance] = user_character_guess\n",
    "            new_empty_spaces_string = \" \".join(empty_spaces_list)\n",
    "            empty_spaces -= len(occurance_index)\n",
    "        #print(new_empty_spaces_string)\n",
    "    else:\n",
    "        previous_guesses.append(user_character_guess)\n",
    "        print(\"That's not in the word!\\n\")\n",
    "        \n"
   ]
  },
  {
   "cell_type": "code",
   "execution_count": null,
   "metadata": {
    "collapsed": true
   },
   "outputs": [],
   "source": []
  }
 ],
 "metadata": {
  "kernelspec": {
   "display_name": "Python 3",
   "language": "python",
   "name": "python3"
  },
  "language_info": {
   "codemirror_mode": {
    "name": "ipython",
    "version": 3
   },
   "file_extension": ".py",
   "mimetype": "text/x-python",
   "name": "python",
   "nbconvert_exporter": "python",
   "pygments_lexer": "ipython3",
   "version": "3.5.0"
  }
 },
 "nbformat": 4,
 "nbformat_minor": 0
}
