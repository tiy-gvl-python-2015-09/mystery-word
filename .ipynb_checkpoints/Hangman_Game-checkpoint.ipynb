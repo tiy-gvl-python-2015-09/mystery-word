{
 "cells": [
  {
   "cell_type": "code",
   "execution_count": 1,
   "metadata": {
    "collapsed": false
   },
   "outputs": [],
   "source": [
    "from random import choice\n",
    "import string"
   ]
  },
  {
   "cell_type": "code",
   "execution_count": 2,
   "metadata": {
    "collapsed": false
   },
   "outputs": [],
   "source": [
    "with open (\"/usr/share/dict/words\") as infile:\n",
    "    text = infile.read()\n",
    "    text = str(text).lower().split()"
   ]
  },
  {
   "cell_type": "code",
   "execution_count": null,
   "metadata": {
    "collapsed": true
   },
   "outputs": [],
   "source": [
    "def play_hangman(list_words):\n",
    "    word = choice(list_words)\n",
    "    \n",
    "    #print(word)\n",
    "\n",
    "    print(\"Welcome! The word has {} letters. You have eight guesses.\".format(len(word)))\n",
    "\n",
    "    userguess = str(input(\"Pick a letter, any letter: \").lower())\n",
    "\n",
    "    word = list(word)\n",
    "    counter = 0\n",
    "    guesses = 0\n",
    "    correct_guess = 0\n",
    "    guesses_left = 8\n",
    "    guess_list = []\n",
    "    blank_word = []\n",
    "\n",
    "    def find_all(a_str, sub):\n",
    "        start = 0\n",
    "        while True:\n",
    "            start = a_str.find(sub, start)\n",
    "            if start == -1: return\n",
    "            yield start\n",
    "            start += len(sub)\n",
    "\n",
    "#first guess and creating blank spaces\n",
    "    while counter < len(word):\n",
    "        guess_list.append(userguess)\n",
    "        for x in word:\n",
    "            if x != userguess:\n",
    "                blank_word.append(\"_\")\n",
    "                counter += 1\n",
    "            if x == userguess:\n",
    "                blank_word.append(userguess)\n",
    "                counter += 1\n",
    "        if userguess not in word:\n",
    "            guesses += 1\n",
    "            guesses_left = 8 - guesses\n",
    "            print(\"Sorry, {} is not in the word. You have {} guesses left.\\r\".format(userguess.upper(), guesses_left))\n",
    "            print(blank_word)\n",
    "\n",
    "        if userguess in word:\n",
    "            print(blank_word)\n",
    "            \n",
    "#all other guesses\n",
    "    while guesses < 8:\n",
    "        userguess = input(\"Pick a letter, any letter: \")\n",
    "        if userguess in guess_list:\n",
    "            print(\"You already guessed {}, please guess again.\".format(userguess.upper()))\n",
    "            continue\n",
    "        guess_list.append(userguess)\n",
    "        if userguess not in word:\n",
    "            guesses += 1\n",
    "            guesses = int(guesses)\n",
    "            guesses_left = 8 - guesses\n",
    "            print(\"Sorry, {} is not in the word. You have {} guesses left.\\r\".format(userguess.upper(), guesses_left))\n",
    "            print(blank_word)\n",
    "            \n",
    "            #if userguess in word:\n",
    "                #if userguess in blank_word:\n",
    "                    #print(\"You already guessed {}.\".format(userguess))\n",
    "        else:\n",
    "            for x in word:\n",
    "                if x == userguess:\n",
    "                    word = (\"\").join(word)\n",
    "                    location_list = list(find_all(word, userguess))\n",
    "                    for x in location_list:\n",
    "                        blank_word.insert(x, userguess)\n",
    "                        del blank_word[x + 1]\n",
    "                    word = list(word)\n",
    "            print(blank_word)\n",
    "            if \"_\" not in blank_word:\n",
    "                word = (\"\").join(word)\n",
    "                guesses_left = 8 - guesses\n",
    "                print(\"Congratulations! You guessed the word {} with {} guesses left.\\r\".format(word, guesses_left))\n",
    "                break\n",
    "    if guesses == 8:\n",
    "        word = ''.join(word)\n",
    "        print(\"Sorry, better luck next time. The word was {}.\".format(word))"
   ]
  },
  {
   "cell_type": "code",
   "execution_count": 4,
   "metadata": {
    "collapsed": false
   },
   "outputs": [],
   "source": [
    "play_hangman(text)"
   ]
  },
  {
   "cell_type": "code",
   "execution_count": null,
   "metadata": {
    "collapsed": true
   },
   "outputs": [],
   "source": []
  }
 ],
 "metadata": {
  "kernelspec": {
   "display_name": "Python 3",
   "language": "python",
   "name": "python3"
  },
  "language_info": {
   "codemirror_mode": {
    "name": "ipython",
    "version": 3
   },
   "file_extension": ".py",
   "mimetype": "text/x-python",
   "name": "python",
   "nbconvert_exporter": "python",
   "pygments_lexer": "ipython3",
   "version": "3.5.0"
  }
 },
 "nbformat": 4,
 "nbformat_minor": 0
}
