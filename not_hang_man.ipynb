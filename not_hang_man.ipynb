{
 "cells": [
  {
   "cell_type": "code",
   "execution_count": 121,
   "metadata": {
    "collapsed": false
   },
   "outputs": [],
   "source": [
    "with open('/usr/share/dict/words') as infile:\n",
    "    list_of_words = infile.read().split()\n",
    "\n",
    "\n",
    "from string import ascii_lowercase\n",
    "from random import randint\n",
    "\n",
    "\n",
    "letter_value = {'a': 1, 'b': 3, 'c': 3, 'd': 2, 'e': 1, 'f': 4, 'g': 2, 'h': 4, 'i': 1,\n",
    "                'j': 8, 'k': 5, 'l': 1, 'm': 3, 'n': 1, 'o': 1, 'p': 3, 'q': 9, 'r': 1,\n",
    "                's': 1, 't': 1, 'u': 1, 'v': 4, 'w': 4, 'x': 8, 'y': 4, 'z': 10}\n",
    "\n",
    "\n",
    "def find_occurences(word, char):\n",
    "    return [i for i, letter in enumerate(word) if letter == char]\n",
    "\n",
    "\n",
    "def play_again():\n",
    "    response = input(\"Do you want to run this program again? Y/N \").lower()\n",
    "    if response == 'y':\n",
    "        print(\"\\n Another word coming your way!\")\n",
    "        not_hang_man()\n",
    "    elif response == 'n':\n",
    "        print(\"Bye.\")\n",
    "        return''\n",
    "    else:\n",
    "        print (\"{} is not an option!\".format(response))\n",
    "        play_again()\n",
    "\n",
    "\n",
    "def random_word(word_list):\n",
    "    random_digit = randint(0,len(word_list))\n",
    "    return word_list[random_digit]\n",
    "\n",
    "\n",
    "def word_value(word):\n",
    "    value = 0\n",
    "    for letter in letter_value:\n",
    "        if letter in word:\n",
    "            value += letter_value[letter]\n",
    "    return value\n",
    "\n",
    "\n",
    "def value_dictionary(word_list):\n",
    "    word_value_dict = {}\n",
    "    for word in word_list:\n",
    "        value = word_value(word)\n",
    "        word_value_dict[word] = value\n",
    "    return word_value_dict\n",
    "dictionary_of_value = value_dictionary(list_of_words)\n",
    "\n",
    "\n",
    "def highest_value(dictionary):\n",
    "    largest_value = 0\n",
    "    for word in dictionary:\n",
    "        if dictionary_of_value[word] > largest_value:\n",
    "            largest_value = dictionary_of_value[word]\n",
    "    return largest_value\n",
    "\n",
    "\n",
    "def difficulty_level():\n",
    "    difficulty = input(\"easy, medium or hard game? \".lower())\n",
    "    word_list = value_dictionary(list_of_words)\n",
    "    numerator = highest_value(word_list)\n",
    "    easy = []\n",
    "    medium = []\n",
    "    hard = []\n",
    "    for word in word_list:\n",
    "        if word_list[word] < (numerator * (1/3)):\n",
    "            easy.append(word)\n",
    "        if word_list[word] < (numerator * (2/3)) and word_list[word] >= (numerator * (1/3)):\n",
    "            medium.append(word)\n",
    "        if word_list[word] <= numerator and word_list[word] >= (numerator * (2/3)):\n",
    "            hard.append(word)\n",
    "    if difficulty == 'easy':\n",
    "        return easy\n",
    "    elif difficulty == 'medium':\n",
    "        return medium\n",
    "    elif difficulty == 'hard':\n",
    "        return hard\n",
    "    else:\n",
    "        print (\"{} is not an option!\".format(difficulty))\n",
    "        return difficulty_level()\n",
    "\n",
    "def not_hang_man():\n",
    "    word = (random_word(difficulty_level()).lower())\n",
    "    letter_list = list(word)\n",
    "    words_guessed = []\n",
    "    print ('your word is {} letters long'.format(len(word)))\n",
    "    num_of_guesses = 0\n",
    "    total_guesses = 8\n",
    "    occurance = []\n",
    "    blank = list('_' * len(word))\n",
    "\n",
    "    while num_of_guesses < total_guesses:\n",
    "        remaining = total_guesses-num_of_guesses\n",
    "        print('you can guess {} more times'.format(remaining))\n",
    "        guess = (input('\\nguess a letter ').lower())\n",
    "        if len(guess) > 1:\n",
    "            print (\"That's too many\")\n",
    "            guess = (input('\\nguess a letter ').lower())\n",
    "        if guess not in ascii_lowercase:\n",
    "            print (\"That's not a letter\")\n",
    "            guess = (input('\\nguess a letter ').lower())\n",
    "        if guess not in words_guessed:\n",
    "            words_guessed.append(guess)\n",
    "            if guess in letter_list:\n",
    "                occurance = find_occurences(letter_list, guess)\n",
    "                for position in occurance:\n",
    "                    blank[position] = letter_list[position]\n",
    "                print(\"\".join(blank))\n",
    "                if ''.join(blank) == word:\n",
    "                    print('Good Jorb Homegrown!')\n",
    "                    break\n",
    "            else:\n",
    "                print(\"\".join(blank))\n",
    "                num_of_guesses+=1\n",
    "\n",
    "        else:\n",
    "            print(\"You already guessed that.\")\n",
    "            print(\"\".join(blank))\n",
    "    if num_of_guesses >= 8:\n",
    "        print('FAILURE! the word was {}'.format(word))\n",
    "    play_again()\n",
    "    return ''"
   ]
  },
  {
   "cell_type": "code",
   "execution_count": 122,
   "metadata": {
    "collapsed": false
   },
   "outputs": [
    {
     "name": "stdout",
     "output_type": "stream",
     "text": [
      "easy, medium or hard game? ea\n",
      "ea is not an option!\n",
      "easy, medium or hard game? easy\n",
      "your word is 8 letters long\n",
      "you can guess 8 more times\n"
     ]
    },
    {
     "ename": "KeyboardInterrupt",
     "evalue": "",
     "output_type": "error",
     "traceback": [
      "\u001b[0;31m---------------------------------------------------------------------------\u001b[0m",
      "\u001b[0;31mKeyboardInterrupt\u001b[0m                         Traceback (most recent call last)",
      "\u001b[0;32m/Users/MatthewBarnette/iron_yard_hw/mystery-word/.direnv/python-3.5.0/lib/python3.5/site-packages/ipykernel/kernelbase.py\u001b[0m in \u001b[0;36m_input_request\u001b[0;34m(self, prompt, ident, parent, password)\u001b[0m\n\u001b[1;32m    675\u001b[0m             \u001b[0;32mtry\u001b[0m\u001b[0;34m:\u001b[0m\u001b[0;34m\u001b[0m\u001b[0m\n\u001b[0;32m--> 676\u001b[0;31m                 \u001b[0mident\u001b[0m\u001b[0;34m,\u001b[0m \u001b[0mreply\u001b[0m \u001b[0;34m=\u001b[0m \u001b[0mself\u001b[0m\u001b[0;34m.\u001b[0m\u001b[0msession\u001b[0m\u001b[0;34m.\u001b[0m\u001b[0mrecv\u001b[0m\u001b[0;34m(\u001b[0m\u001b[0mself\u001b[0m\u001b[0;34m.\u001b[0m\u001b[0mstdin_socket\u001b[0m\u001b[0;34m,\u001b[0m \u001b[0;36m0\u001b[0m\u001b[0;34m)\u001b[0m\u001b[0;34m\u001b[0m\u001b[0m\n\u001b[0m\u001b[1;32m    677\u001b[0m             \u001b[0;32mexcept\u001b[0m \u001b[0mException\u001b[0m\u001b[0;34m:\u001b[0m\u001b[0;34m\u001b[0m\u001b[0m\n",
      "\u001b[0;32m/Users/MatthewBarnette/iron_yard_hw/mystery-word/.direnv/python-3.5.0/lib/python3.5/site-packages/jupyter_client/session.py\u001b[0m in \u001b[0;36mrecv\u001b[0;34m(self, socket, mode, content, copy)\u001b[0m\n\u001b[1;32m    730\u001b[0m         \u001b[0;32mtry\u001b[0m\u001b[0;34m:\u001b[0m\u001b[0;34m\u001b[0m\u001b[0m\n\u001b[0;32m--> 731\u001b[0;31m             \u001b[0mmsg_list\u001b[0m \u001b[0;34m=\u001b[0m \u001b[0msocket\u001b[0m\u001b[0;34m.\u001b[0m\u001b[0mrecv_multipart\u001b[0m\u001b[0;34m(\u001b[0m\u001b[0mmode\u001b[0m\u001b[0;34m,\u001b[0m \u001b[0mcopy\u001b[0m\u001b[0;34m=\u001b[0m\u001b[0mcopy\u001b[0m\u001b[0;34m)\u001b[0m\u001b[0;34m\u001b[0m\u001b[0m\n\u001b[0m\u001b[1;32m    732\u001b[0m         \u001b[0;32mexcept\u001b[0m \u001b[0mzmq\u001b[0m\u001b[0;34m.\u001b[0m\u001b[0mZMQError\u001b[0m \u001b[0;32mas\u001b[0m \u001b[0me\u001b[0m\u001b[0;34m:\u001b[0m\u001b[0;34m\u001b[0m\u001b[0m\n",
      "\u001b[0;32m/Users/MatthewBarnette/iron_yard_hw/mystery-word/.direnv/python-3.5.0/lib/python3.5/site-packages/zmq/sugar/socket.py\u001b[0m in \u001b[0;36mrecv_multipart\u001b[0;34m(self, flags, copy, track)\u001b[0m\n\u001b[1;32m    357\u001b[0m         \"\"\"\n\u001b[0;32m--> 358\u001b[0;31m         \u001b[0mparts\u001b[0m \u001b[0;34m=\u001b[0m \u001b[0;34m[\u001b[0m\u001b[0mself\u001b[0m\u001b[0;34m.\u001b[0m\u001b[0mrecv\u001b[0m\u001b[0;34m(\u001b[0m\u001b[0mflags\u001b[0m\u001b[0;34m,\u001b[0m \u001b[0mcopy\u001b[0m\u001b[0;34m=\u001b[0m\u001b[0mcopy\u001b[0m\u001b[0;34m,\u001b[0m \u001b[0mtrack\u001b[0m\u001b[0;34m=\u001b[0m\u001b[0mtrack\u001b[0m\u001b[0;34m)\u001b[0m\u001b[0;34m]\u001b[0m\u001b[0;34m\u001b[0m\u001b[0m\n\u001b[0m\u001b[1;32m    359\u001b[0m         \u001b[0;31m# have first part already, only loop while more to receive\u001b[0m\u001b[0;34m\u001b[0m\u001b[0;34m\u001b[0m\u001b[0m\n",
      "\u001b[0;32mzmq/backend/cython/socket.pyx\u001b[0m in \u001b[0;36mzmq.backend.cython.socket.Socket.recv (zmq/backend/cython/socket.c:6507)\u001b[0;34m()\u001b[0m\n",
      "\u001b[0;32mzmq/backend/cython/socket.pyx\u001b[0m in \u001b[0;36mzmq.backend.cython.socket.Socket.recv (zmq/backend/cython/socket.c:6307)\u001b[0;34m()\u001b[0m\n",
      "\u001b[0;32mzmq/backend/cython/socket.pyx\u001b[0m in \u001b[0;36mzmq.backend.cython.socket._recv_copy (zmq/backend/cython/socket.c:1877)\u001b[0;34m()\u001b[0m\n",
      "\u001b[0;32m/Users/MatthewBarnette/iron_yard_hw/mystery-word/.direnv/python-3.5.0/lib/python3.5/site-packages/zmq/backend/cython/checkrc.pxd\u001b[0m in \u001b[0;36mzmq.backend.cython.checkrc._check_rc (zmq/backend/cython/socket.c:6758)\u001b[0;34m()\u001b[0m\n",
      "\u001b[0;31mKeyboardInterrupt\u001b[0m: ",
      "\nDuring handling of the above exception, another exception occurred:\n",
      "\u001b[0;31mKeyboardInterrupt\u001b[0m                         Traceback (most recent call last)",
      "\u001b[0;32m<ipython-input-122-f8be28726d7c>\u001b[0m in \u001b[0;36m<module>\u001b[0;34m()\u001b[0m\n\u001b[0;32m----> 1\u001b[0;31m \u001b[0mnot_hang_man\u001b[0m\u001b[0;34m(\u001b[0m\u001b[0;34m)\u001b[0m\u001b[0;34m\u001b[0m\u001b[0m\n\u001b[0m",
      "\u001b[0;32m<ipython-input-121-b04cc94c8b4c>\u001b[0m in \u001b[0;36mnot_hang_man\u001b[0;34m()\u001b[0m\n\u001b[1;32m     96\u001b[0m         \u001b[0mremaining\u001b[0m \u001b[0;34m=\u001b[0m \u001b[0mtotal_guesses\u001b[0m\u001b[0;34m-\u001b[0m\u001b[0mnum_of_guesses\u001b[0m\u001b[0;34m\u001b[0m\u001b[0m\n\u001b[1;32m     97\u001b[0m         \u001b[0mprint\u001b[0m\u001b[0;34m(\u001b[0m\u001b[0;34m'you can guess {} more times'\u001b[0m\u001b[0;34m.\u001b[0m\u001b[0mformat\u001b[0m\u001b[0;34m(\u001b[0m\u001b[0mremaining\u001b[0m\u001b[0;34m)\u001b[0m\u001b[0;34m)\u001b[0m\u001b[0;34m\u001b[0m\u001b[0m\n\u001b[0;32m---> 98\u001b[0;31m         \u001b[0mguess\u001b[0m \u001b[0;34m=\u001b[0m \u001b[0;34m(\u001b[0m\u001b[0minput\u001b[0m\u001b[0;34m(\u001b[0m\u001b[0;34m'\\nguess a letter '\u001b[0m\u001b[0;34m)\u001b[0m\u001b[0;34m.\u001b[0m\u001b[0mlower\u001b[0m\u001b[0;34m(\u001b[0m\u001b[0;34m)\u001b[0m\u001b[0;34m)\u001b[0m\u001b[0;34m\u001b[0m\u001b[0m\n\u001b[0m\u001b[1;32m     99\u001b[0m         \u001b[0;32mif\u001b[0m \u001b[0mlen\u001b[0m\u001b[0;34m(\u001b[0m\u001b[0mguess\u001b[0m\u001b[0;34m)\u001b[0m \u001b[0;34m>\u001b[0m \u001b[0;36m1\u001b[0m\u001b[0;34m:\u001b[0m\u001b[0;34m\u001b[0m\u001b[0m\n\u001b[1;32m    100\u001b[0m             \u001b[0mprint\u001b[0m \u001b[0;34m(\u001b[0m\u001b[0;34m\"That's too many\"\u001b[0m\u001b[0;34m)\u001b[0m\u001b[0;34m\u001b[0m\u001b[0m\n",
      "\u001b[0;32m/Users/MatthewBarnette/iron_yard_hw/mystery-word/.direnv/python-3.5.0/lib/python3.5/site-packages/ipykernel/kernelbase.py\u001b[0m in \u001b[0;36mraw_input\u001b[0;34m(self, prompt)\u001b[0m\n\u001b[1;32m    649\u001b[0m             \u001b[0mself\u001b[0m\u001b[0;34m.\u001b[0m\u001b[0m_parent_ident\u001b[0m\u001b[0;34m,\u001b[0m\u001b[0;34m\u001b[0m\u001b[0m\n\u001b[1;32m    650\u001b[0m             \u001b[0mself\u001b[0m\u001b[0;34m.\u001b[0m\u001b[0m_parent_header\u001b[0m\u001b[0;34m,\u001b[0m\u001b[0;34m\u001b[0m\u001b[0m\n\u001b[0;32m--> 651\u001b[0;31m             \u001b[0mpassword\u001b[0m\u001b[0;34m=\u001b[0m\u001b[0;32mFalse\u001b[0m\u001b[0;34m,\u001b[0m\u001b[0;34m\u001b[0m\u001b[0m\n\u001b[0m\u001b[1;32m    652\u001b[0m         )\n\u001b[1;32m    653\u001b[0m \u001b[0;34m\u001b[0m\u001b[0m\n",
      "\u001b[0;32m/Users/MatthewBarnette/iron_yard_hw/mystery-word/.direnv/python-3.5.0/lib/python3.5/site-packages/ipykernel/kernelbase.py\u001b[0m in \u001b[0;36m_input_request\u001b[0;34m(self, prompt, ident, parent, password)\u001b[0m\n\u001b[1;32m    679\u001b[0m             \u001b[0;32mexcept\u001b[0m \u001b[0mKeyboardInterrupt\u001b[0m\u001b[0;34m:\u001b[0m\u001b[0;34m\u001b[0m\u001b[0m\n\u001b[1;32m    680\u001b[0m                 \u001b[0;31m# re-raise KeyboardInterrupt, to truncate traceback\u001b[0m\u001b[0;34m\u001b[0m\u001b[0;34m\u001b[0m\u001b[0m\n\u001b[0;32m--> 681\u001b[0;31m                 \u001b[0;32mraise\u001b[0m \u001b[0mKeyboardInterrupt\u001b[0m\u001b[0;34m\u001b[0m\u001b[0m\n\u001b[0m\u001b[1;32m    682\u001b[0m             \u001b[0;32melse\u001b[0m\u001b[0;34m:\u001b[0m\u001b[0;34m\u001b[0m\u001b[0m\n\u001b[1;32m    683\u001b[0m                 \u001b[0;32mbreak\u001b[0m\u001b[0;34m\u001b[0m\u001b[0m\n",
      "\u001b[0;31mKeyboardInterrupt\u001b[0m: "
     ]
    }
   ],
   "source": [
    "not_hang_man()"
   ]
  },
  {
   "cell_type": "code",
   "execution_count": 118,
   "metadata": {
    "collapsed": false
   },
   "outputs": [],
   "source": [
    "def difficulty_level(difficulty = 'medium'):\n",
    "    difficulty = input(\"easy, medium or hard game? \".lower())\n",
    "    word_list = value_dictionary(list_of_words[:20])\n",
    "    numerator = highest_value(word_list)\n",
    "    easy = []\n",
    "    medium = []\n",
    "    hard = []\n",
    "    for word in word_list:\n",
    "        if word_list[word] < (numerator * (1/3)):\n",
    "            easy.append(word)\n",
    "        if word_list[word] < (numerator * (2/3)) and word_list[word] >= (numerator * (1/3)):\n",
    "            medium.append(word)\n",
    "        if word_list[word] <= numerator and word_list[word] >= (numerator * (2/3)):\n",
    "            hard.append(word)\n",
    "    if difficulty == 'easy':\n",
    "        return easy\n",
    "    elif difficulty == 'medium':\n",
    "        return medium\n",
    "    elif difficulty == 'hard':\n",
    "        return hard\n",
    "    else:\n",
    "        print (\"{} is not an option!\".format(difficulty))\n",
    "        return difficulty_level()\n"
   ]
  },
  {
   "cell_type": "code",
   "execution_count": 119,
   "metadata": {
    "collapsed": false,
    "scrolled": true
   },
   "outputs": [
    {
     "name": "stdout",
     "output_type": "stream",
     "text": [
      "easy, medium or hard game? es\n",
      "crash\n",
      "crash\n",
      "crash\n",
      "crash\n",
      "crash\n",
      "crash\n",
      "crash\n",
      "crash\n",
      "crash\n",
      "crash\n",
      "crash\n",
      "es is not an option!\n",
      "easy, medium or hard game? easy\n",
      "crash\n",
      "crash\n",
      "crash\n",
      "crash\n",
      "crash\n",
      "crash\n",
      "crash\n",
      "crash\n",
      "crash\n",
      "crash\n",
      "crash\n",
      "Yo moma\n",
      "######################\n",
      " ['aa', 'a', 'aba', 'Aaru', 'Ab', 'aalii', 'Aaron', 'aam', 'A', 'aal', 'Aani']\n"
     ]
    }
   ],
   "source": [
    "x = difficulty_level()"
   ]
  },
  {
   "cell_type": "code",
   "execution_count": 120,
   "metadata": {
    "collapsed": false
   },
   "outputs": [
    {
     "name": "stdout",
     "output_type": "stream",
     "text": [
      "['aa', 'a', 'aba', 'Aaru', 'Ab', 'aalii', 'Aaron', 'aam', 'A', 'aal', 'Aani']\n"
     ]
    }
   ],
   "source": [
    "print(x)"
   ]
  },
  {
   "cell_type": "code",
   "execution_count": null,
   "metadata": {
    "collapsed": true
   },
   "outputs": [],
   "source": []
  }
 ],
 "metadata": {
  "kernelspec": {
   "display_name": "Python 3",
   "language": "python",
   "name": "python3"
  },
  "language_info": {
   "codemirror_mode": {
    "name": "ipython",
    "version": 3
   },
   "file_extension": ".py",
   "mimetype": "text/x-python",
   "name": "python",
   "nbconvert_exporter": "python",
   "pygments_lexer": "ipython3",
   "version": "3.5.0"
  }
 },
 "nbformat": 4,
 "nbformat_minor": 0
}
